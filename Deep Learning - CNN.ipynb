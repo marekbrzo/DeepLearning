{
 "cells": [
  {
   "cell_type": "code",
   "execution_count": null,
   "metadata": {},
   "outputs": [],
   "source": []
  },
  {
   "cell_type": "markdown",
   "metadata": {},
   "source": [
    "# Deep Learning - CNN\n",
    "\n",
    "## BRZOZOWSKI MAREK\n",
    "\n",
    "## The classic MNIST dataset will be used to explore:\n",
    "\n",
    "## Hand-writtien Recognition using CNN a class of Deep Neural Networks \n",
    "\n",
    "\n",
    "Neural Networks are a series algorithms for building a computer program that learns from data. It loosely resembles the way our human brains operate. Neurons in the simplest form are links that activate on certain responses whether chemical signals or data inputs for computers. As the brain evolves to create new linking neurons so to does nequral networks as they adapt to changing inputs. \n",
    "\n",
    "Convolutional neural networks (CNN) are artifical neural networks that are popular in computing vision tasks. CNN are designed to automatically and adaptively learn spatial hierarchies of features through backpropagation by using multiple blocks such as convolutional layers, pooling layers and fully connected layers."
   ]
  },
  {
   "cell_type": "code",
   "execution_count": 1,
   "metadata": {},
   "outputs": [
    {
     "name": "stderr",
     "output_type": "stream",
     "text": [
      "Using TensorFlow backend.\n"
     ]
    }
   ],
   "source": [
    "# Load Packages\n",
    "import numpy as np \n",
    "import pandas as pd \n",
    "import matplotlib.pyplot as plt \n",
    "import tensorflow as tf\n",
    "import keras\n",
    "import time\n",
    "import random\n",
    "\n",
    "from keras.models import Sequential\n",
    "from keras.layers import Activation, Dropout, Flatten, Dense\n",
    "from keras.layers.convolutional import Convolution2D, MaxPooling2D\n",
    "\n",
    "%matplotlib inline "
   ]
  },
  {
   "cell_type": "code",
   "execution_count": 2,
   "metadata": {},
   "outputs": [
    {
     "name": "stdout",
     "output_type": "stream",
     "text": [
      "Shape of x_train (60000, 28, 28)\n",
      "Shape of x_test (10000, 28, 28)\n",
      "Shape of y_train (60000,)\n",
      "Shape of y_test (10000,)\n"
     ]
    }
   ],
   "source": [
    "# Load MNIST Dataset and determine the shape\n",
    "mnist = keras.datasets.mnist\n",
    "\n",
    "\n",
    "(x_train, y_train), (x_test, y_test) = mnist.load_data()\n",
    "_, image_row , image_column = x_train.shape\n",
    "\n",
    "print('Shape of x_train',x_train.shape)\n",
    "print('Shape of x_test',x_test.shape)\n",
    "print('Shape of y_train',y_train.shape)\n",
    "print('Shape of y_test',y_test.shape)\n"
   ]
  },
  {
   "cell_type": "code",
   "execution_count": 3,
   "metadata": {},
   "outputs": [
    {
     "name": "stdout",
     "output_type": "stream",
     "text": [
      "['__builtins__', '__cached__', '__doc__', '__file__', '__loader__', '__name__', '__package__', '__spec__', 'absolute_import', 'division', 'get_file', 'load_data', 'np', 'print_function']\n"
     ]
    }
   ],
   "source": [
    "# Features of mnist\n",
    "print(dir(mnist))"
   ]
  },
  {
   "cell_type": "code",
   "execution_count": 4,
   "metadata": {},
   "outputs": [
    {
     "name": "stdout",
     "output_type": "stream",
     "text": [
      "Number of Training Photos 60000\n",
      "Number of Test Photos 10000\n",
      "Image Row Matrix 28\n",
      "Image Row Matrix 28\n",
      "Number of unique values in train/test label 10\n"
     ]
    }
   ],
   "source": [
    "# Image Dimensions\n",
    "num_classes = len(np.unique(y_train))\n",
    "\n",
    "print('Number of Training Photos', x_train.shape[0])\n",
    "print('Number of Test Photos', x_test.shape[0])\n",
    "print('Image Row Matrix', image_row)\n",
    "print('Image Row Matrix', image_column)\n",
    "print('Number of unique values in train/test label', num_classes)"
   ]
  },
  {
   "cell_type": "code",
   "execution_count": 5,
   "metadata": {},
   "outputs": [
    {
     "data": {
      "image/png": "[encoded data removed]",
      "text/plain": [
       "<Figure size 432x288 with 1 Axes>"
      ]
     },
     "metadata": {
      "needs_background": "light"
     },
     "output_type": "display_data"
    }
   ],
   "source": [
    "# Display a single image\n",
    "plt.imshow(x_train[0])\n",
    "plt.show()"
   ]
  },
  {
   "cell_type": "code",
   "execution_count": 6,
   "metadata": {},
   "outputs": [],
   "source": [
    "# Reshape and Normalizing Colouring\n",
    "x_train = x_train.reshape(x_train.shape[0], 1, image_row, image_row).astype('float32')\n",
    "x_test = x_test.reshape(x_test.shape[0],1, image_row, image_column).astype('float32')\n",
    "\n",
    "# Grey Scale 0 is Black, 255 is White\n",
    "x_train /= 255\n",
    "x_test /= 255\n",
    "\n",
    "# Converts a class vector (integers) to binary class matrix. For use with categorical_crossentropy.\n",
    "y_train = keras.utils.to_categorical(y_train, num_classes)\n",
    "y_test = keras.utils.to_categorical(y_test, num_classes)"
   ]
  },
  {
   "cell_type": "code",
   "execution_count": 7,
   "metadata": {},
   "outputs": [
    {
     "data": {
      "text/plain": [
       "60000"
      ]
     },
     "execution_count": 7,
     "metadata": {},
     "output_type": "execute_result"
    }
   ],
   "source": [
    "# Check shape again\n",
    "y_train.shape[0]"
   ]
  },
  {
   "cell_type": "code",
   "execution_count": 8,
   "metadata": {},
   "outputs": [],
   "source": [
    "# Function: Plot model accuracy and loss\n",
    "def plot_model(model_history):\n",
    "    fig, ax = plt.subplots(1,2,figsize=(18,6))\n",
    "    \n",
    "    # First subplot:\n",
    "    # A historical plot for the accuracy of the model\n",
    "    ax[0].plot(\n",
    "        range(1,len(model_history.history['acc'])+1),\n",
    "        model_history.history['acc']\n",
    "    )\n",
    "\n",
    "\n",
    "    ax[0].set_title('Model Accuracy')\n",
    "    ax[0].set_ylabel('Accuracy')\n",
    "    ax[0].set_xlabel('Epoch')\n",
    "\n",
    "    ax[0].set_xticks(\n",
    "        np.arange(1,len(model_history.history['acc'])+1),\n",
    "        len(model_history.history['acc'])/10\n",
    "    )\n",
    "\n",
    "    \n",
    "    # Second subplot:\n",
    "    # A historical plot for the lost of the model\n",
    "    ax[1].plot(\n",
    "        range(1,len(model_history.history['loss'])+1),\n",
    "        model_history.history['loss'])\n",
    "    \n",
    "    ax[1].set_title('Model Loss')\n",
    "    ax[1].set_ylabel('Loss')\n",
    "    ax[1].set_xlabel('Epoch')\n",
    "    \n",
    "    ax[1].set_xticks(\n",
    "        np.arange(1,len(model_history.history['loss'])+1),\n",
    "        len(model_history.history['loss'])/10\n",
    "    )\n",
    "\n",
    "    plt.show()"
   ]
  },
  {
   "source": [
    "## Notes\n",
    "Convolution is a mathematical operation to merge two sets of information.\n",
    "Hyperparameter or size 3x3 matrix filter.\n",
    "Pooling layer: Reduce the resolution of the feature to a 2x2\n",
    "Dropout to reduce overfitting. Dropout can be used after convolutional layers (e.g. Conv2D) and after pooling layers (e.g. MaxPooling2D). Often, dropout is only used after the pooling  layers, but this is just a rough heuristic.\n",
    "Last layer is set to the number of unique answers to provide an array or zeros and one True."
   ],
   "cell_type": "markdown",
   "metadata": {}
  },
  {
   "cell_type": "code",
   "execution_count": 9,
   "metadata": {},
   "outputs": [
    {
     "name": "stderr",
     "output_type": "stream",
     "text": [
      "C:\\Users\\Marek\\Anaconda3\\lib\\site-packages\\ipykernel_launcher.py:6: UserWarning: Update your `Conv2D` call to the Keras 2 API: `Conv2D(32, (3, 3), input_shape=(1, 28, 28..., data_format=\"channels_first\", padding=\"same\")`\n",
      "  \n"
     ]
    },
    {
     "name": "stdout",
     "output_type": "stream",
     "text": [
      "_________________________________________________________________\n",
      "Layer (type)                 Output Shape              Param #   \n",
      "=================================================================\n",
      "conv2d_1 (Conv2D)            (None, 32, 28, 28)        320       \n",
      "_________________________________________________________________\n",
      "activation_1 (Activation)    (None, 32, 28, 28)        0         \n",
      "_________________________________________________________________\n",
      "max_pooling2d_1 (MaxPooling2 (None, 16, 14, 28)        0         \n",
      "_________________________________________________________________\n",
      "conv2d_2 (Conv2D)            (None, 16, 14, 64)        16192     \n",
      "_________________________________________________________________\n",
      "activation_2 (Activation)    (None, 16, 14, 64)        0         \n",
      "_________________________________________________________________\n",
      "max_pooling2d_2 (MaxPooling2 (None, 8, 7, 64)          0         \n",
      "_________________________________________________________________\n",
      "dropout_1 (Dropout)          (None, 8, 7, 64)          0         \n",
      "_________________________________________________________________\n",
      "flatten_1 (Flatten)          (None, 3584)              0         \n",
      "_________________________________________________________________\n",
      "activation_3 (Activation)    (None, 3584)              0         \n",
      "_________________________________________________________________\n",
      "dense_1 (Dense)              (None, 128)               458880    \n",
      "_________________________________________________________________\n",
      "activation_4 (Activation)    (None, 128)               0         \n",
      "_________________________________________________________________\n",
      "dense_2 (Dense)              (None, 10)                1290      \n",
      "_________________________________________________________________\n",
      "activation_5 (Activation)    (None, 10)                0         \n",
      "=================================================================\n",
      "Total params: 476,682\n",
      "Trainable params: 476,682\n",
      "Non-trainable params: 0\n",
      "_________________________________________________________________\n"
     ]
    },
    {
     "name": "stderr",
     "output_type": "stream",
     "text": [
      "C:\\Users\\Marek\\Anaconda3\\lib\\site-packages\\ipykernel_launcher.py:11: UserWarning: Update your `Conv2D` call to the Keras 2 API: `Conv2D(64, (3, 3), padding=\"same\")`\n",
      "  # This is added back by InteractiveShellApp.init_path()\n"
     ]
    }
   ],
   "source": [
    "model = Sequential()\n",
    "\n",
    "model.add(Convolution2D(32,(3,3), \n",
    "                        border_mode='same',\n",
    "                        input_shape=(1,28,28),\n",
    "                        data_format='channels_first')\n",
    "         )\n",
    "model.add(Activation('relu'))\n",
    "model.add(MaxPooling2D(pool_size=(2,2)))\n",
    "\n",
    "model.add(Convolution2D(64,(3,3), border_mode='same'))\n",
    "model.add(Activation('relu'))\n",
    "model.add(MaxPooling2D(pool_size=(2,2)))\n",
    "model.add(Dropout(0.5))\n",
    "\n",
    "model.add(Flatten())\n",
    "model.add(Activation('relu'))\n",
    "\n",
    "model.add(Dense(128))\n",
    "model.add(Activation('relu'))\n",
    "\n",
    "model.add(Dense(num_classes))\n",
    "model.add(Activation('softmax'))\n",
    "\n",
    "model.summary()\n",
    "\n",
    "\n"
   ]
  },
  {
   "cell_type": "code",
   "execution_count": 10,
   "metadata": {},
   "outputs": [],
   "source": [
    "# Compiling model with the measurements metrics and optimizers.\n",
    "model.compile(\n",
    "    optimizer='adam',\n",
    "    loss='categorical_crossentropy',\n",
    "    metrics=['accuracy']\n",
    "    )\n"
   ]
  },
  {
   "cell_type": "code",
   "execution_count": 11,
   "metadata": {},
   "outputs": [
    {
     "name": "stdout",
     "output_type": "stream",
     "text": [
      "Train on 48000 samples, validate on 12000 samples\n",
      "Epoch 1/20\n",
      "48000/48000 [==============================] - 4s 79us/step - loss: 0.3347 - acc: 0.8995 - val_loss: 0.1267 - val_acc: 0.9623\n",
      "Epoch 2/20\n",
      "48000/48000 [==============================] - 3s 53us/step - loss: 0.1181 - acc: 0.9633 - val_loss: 0.0837 - val_acc: 0.9743\n",
      "Epoch 3/20\n",
      "48000/48000 [==============================] - 2s 52us/step - loss: 0.0830 - acc: 0.9743 - val_loss: 0.0661 - val_acc: 0.9809\n",
      "Epoch 4/20\n",
      "48000/48000 [==============================] - 3s 53us/step - loss: 0.0685 - acc: 0.9785 - val_loss: 0.0571 - val_acc: 0.9826\n",
      "Epoch 5/20\n",
      "48000/48000 [==============================] - 2s 52us/step - loss: 0.0588 - acc: 0.9814 - val_loss: 0.0493 - val_acc: 0.9858\n",
      "Epoch 6/20\n",
      "48000/48000 [==============================] - 3s 52us/step - loss: 0.0483 - acc: 0.9847 - val_loss: 0.0445 - val_acc: 0.9863\n",
      "Epoch 7/20\n",
      "48000/48000 [==============================] - 2s 52us/step - loss: 0.0422 - acc: 0.9864 - val_loss: 0.0471 - val_acc: 0.9861\n",
      "Epoch 8/20\n",
      "48000/48000 [==============================] - 2s 52us/step - loss: 0.0380 - acc: 0.9871 - val_loss: 0.0442 - val_acc: 0.9868\n",
      "Epoch 9/20\n",
      "48000/48000 [==============================] - 3s 52us/step - loss: 0.0331 - acc: 0.9896 - val_loss: 0.0399 - val_acc: 0.9882\n",
      "Epoch 10/20\n",
      "48000/48000 [==============================] - 2s 52us/step - loss: 0.0337 - acc: 0.9892 - val_loss: 0.0378 - val_acc: 0.9879\n",
      "Epoch 11/20\n",
      "48000/48000 [==============================] - 3s 52us/step - loss: 0.0276 - acc: 0.9904 - val_loss: 0.0446 - val_acc: 0.9880\n",
      "Epoch 12/20\n",
      "48000/48000 [==============================] - 3s 52us/step - loss: 0.0270 - acc: 0.9908 - val_loss: 0.0440 - val_acc: 0.9868\n",
      "Epoch 13/20\n",
      "48000/48000 [==============================] - 2s 51us/step - loss: 0.0228 - acc: 0.9920 - val_loss: 0.0433 - val_acc: 0.9881\n",
      "Epoch 14/20\n",
      "48000/48000 [==============================] - 3s 53us/step - loss: 0.0211 - acc: 0.9924 - val_loss: 0.0421 - val_acc: 0.9895\n",
      "Epoch 15/20\n",
      "48000/48000 [==============================] - 2s 51us/step - loss: 0.0204 - acc: 0.9930 - val_loss: 0.0407 - val_acc: 0.9889\n",
      "Epoch 16/20\n",
      "48000/48000 [==============================] - 2s 52us/step - loss: 0.0188 - acc: 0.9932 - val_loss: 0.0406 - val_acc: 0.9894\n",
      "Epoch 17/20\n",
      "48000/48000 [==============================] - 3s 53us/step - loss: 0.0175 - acc: 0.9941 - val_loss: 0.0415 - val_acc: 0.9893\n",
      "Epoch 18/20\n",
      "48000/48000 [==============================] - 3s 54us/step - loss: 0.0167 - acc: 0.9945 - val_loss: 0.0440 - val_acc: 0.9888\n",
      "Epoch 19/20\n",
      "48000/48000 [==============================] - 3s 53us/step - loss: 0.0152 - acc: 0.9951 - val_loss: 0.0402 - val_acc: 0.9898\n",
      "Epoch 20/20\n",
      "48000/48000 [==============================] - 3s 53us/step - loss: 0.0145 - acc: 0.9952 - val_loss: 0.0406 - val_acc: 0.9890\n"
     ]
    },
    {
     "data": {
      "image/png": "[encoded data removed]",
      "text/plain": [
       "<Figure size 1296x432 with 2 Axes>"
      ]
     },
     "metadata": {
      "needs_background": "light"
     },
     "output_type": "display_data"
    },
    {
     "name": "stdout",
     "output_type": "stream",
     "text": [
      "10000/10000 [==============================] - 0s 50us/step\n",
      "0.03355695701813584 0.9904\n",
      "Model run time in seconds:  51.7519006729126\n",
      "Model accuracy is:  0.9904\n"
     ]
    }
   ],
   "source": [
    "start = time.time()\n",
    "\n",
    "model_info = model.fit(\n",
    "    x_train, y_train,\n",
    "    epochs=20,\n",
    "    batch_size= 150, \n",
    "    verbose= 1, \n",
    "    validation_split= 0.2\n",
    "    )\n",
    "    \n",
    "end = time.time()\n",
    "\n",
    "plot_model(model_info)\n",
    "\n",
    "val_loss,val_acc=model.evaluate(x_test,y_test)\n",
    "print(val_loss,val_acc)\n",
    "\n",
    "print('Model run time in seconds: ', (end-start))\n",
    "print('Model accuracy is: ', val_acc)"
   ]
  },
  {
   "cell_type": "code",
   "execution_count": 12,
   "metadata": {},
   "outputs": [
    {
     "data": {
      "text/plain": [
       "(10000, 10)"
      ]
     },
     "execution_count": 12,
     "metadata": {},
     "output_type": "execute_result"
    }
   ],
   "source": [
    "# Predict the test feature data set\n",
    "predictions=model.predict([x_test])\n",
    "np.shape(predictions)"
   ]
  },
  {
   "cell_type": "code",
   "execution_count": 13,
   "metadata": {},
   "outputs": [
    {
     "data": {
      "image/png": "[encoded data removed]",
      "text/plain": [
       "<Figure size 432x288 with 1 Axes>"
      ]
     },
     "metadata": {
      "needs_background": "light"
     },
     "output_type": "display_data"
    },
    {
     "name": "stdout",
     "output_type": "stream",
     "text": [
      "Model predicted:  7\n"
     ]
    }
   ],
   "source": [
    "# Visualize check\n",
    "plt.imshow(x_test[0].reshape(28,28))\n",
    "plt.show()\n",
    "\n",
    "print('Model predicted: ', np.argmax(predictions[0]))"
   ]
  },
  {
   "cell_type": "code",
   "execution_count": 14,
   "metadata": {},
   "outputs": [
    {
     "data": {
      "image/png": "[encoded data removed]",
      "text/plain": [
       "<Figure size 432x288 with 1 Axes>"
      ]
     },
     "metadata": {
      "needs_background": "light"
     },
     "output_type": "display_data"
    },
    {
     "name": "stdout",
     "output_type": "stream",
     "text": [
      "Model predicted:  3\n"
     ]
    }
   ],
   "source": [
    "# Random test sample checks\n",
    "def random_pull():\n",
    "    rand = random.randint(1,x_test.shape[0])\n",
    "    plt.imshow(x_test[rand].reshape(28,28))\n",
    "    plt.show()\n",
    "\n",
    "    print('Model predicted: ', np.argmax(predictions[rand]))\n",
    "\n",
    "random_pull()"
   ]
  },
  {
   "cell_type": "code",
   "execution_count": null,
   "metadata": {},
   "outputs": [],
   "source": []
  }
 ],
 "metadata": {
  "file_extension": ".py",
  "kernelspec": {
   "display_name": "Python 3.6.8 64-bit ('base': conda)",
   "language": "python",
   "name": "python36864bitbasecondab7b0b3c2e5114e4588b3c6978978b1d3"
  },
  "language_info": {
   "codemirror_mode": {
    "name": "ipython",
    "version": 3
   },
   "file_extension": ".py",
   "mimetype": "text/x-python",
   "name": "python",
   "nbconvert_exporter": "python",
   "pygments_lexer": "ipython3",
   "version": "3.6.8"
  },
  "mimetype": "text/x-python",
  "name": "python",
  "npconvert_exporter": "python",
  "pygments_lexer": "ipython3",
  "version": 3
 },
 "nbformat": 4,
 "nbformat_minor": 2
}